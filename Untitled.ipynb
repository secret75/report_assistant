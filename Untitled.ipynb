{
 "cells": [
  {
   "cell_type": "code",
   "execution_count": 1,
   "id": "75627632",
   "metadata": {},
   "outputs": [
    {
     "data": {
      "text/plain": [
       "False"
      ]
     },
     "execution_count": 1,
     "metadata": {},
     "output_type": "execute_result"
    }
   ],
   "source": [
    "import win32com.client as win32\n",
    "import os\n",
    "hwp = win32.gencache.EnsureDispatch(\"hwpframe.hwpobject\")\n",
    "hwp.XHwpWindows.Item(0).Visible = False\n",
    "hwp.RegisterModule(\"FilePathCheckDLL\", \"SecurityModule\")\n"
   ]
  },
  {
   "cell_type": "code",
   "execution_count": 3,
   "id": "bc02dff7",
   "metadata": {},
   "outputs": [
    {
     "name": "stdout",
     "output_type": "stream",
     "text": [
      "[['A', '신춘호', '2022-10-04', '예비창업자', '010-3783-9170', '최중완', '3', 'cwcw69@hanmail.net', 'A'], ['A', '최철호', '2022-10-05', '예비창업자', '010-9141-9757', '한민섭', '1', 'marialove1012@nate.com', 'A'], ['A', '신춘호', '2022-10-06', '삼일비앤씨', '010-7133-3101', '이현주', '1', 'm2000year@naver.com', 'A'], ['A', '최철호', '2022-10-06', '참조은기술', '010-3470-1749', '김양수', '2', 'jubiz@naver.com', 'A'], ['A', '최철호', '2022-10-07', '예비창업자', '010-6322-6929', '황규필', '1', 'hinikia@naver.com', 'A'], ['A', '최철호', '2022-10-11', '예비창업자', '010-4477-4252', '유지연', '1', 'Pronine9@nate.com', 'A'], ['A', '이은광', '2022-10-1', '예비창업자', '010-4477-4252', '유지연', '1', 'A'], ['A', '신춘호', '2022-10-14', '휴닛로보틱스', '010-3651-9632', '이상민', '3', 'ee_project@naver.com', 'A'], ['A', '최철호', '2022-10-19', '플리지', '010-4073-0798', '최바다', '1', 'pleasy.official@gmail.com', 'A'], ['A', '최철호', '2022-10-21', '예비창업자', '010-6264-7754', '조예진', '1', 'e-dodam@naver.com', 'A'], ['A', '이은광', '2022-10-2', '예비창업자', '010-4904-8864', '진정복', '1', 'obokno1@naver.com', 'A'], ['A', '신춘호', '2022-10-24', '시스템테크', '010-3337-2000', '김운경', '4', 'james@apache.co.kr', 'A'], ['A', '이은광', '2022-10-2', '이데아스', '010-2515-6204', '김태환', '1', 'A'], ['A', '신춘호', '2022-10-26', '레브커머스', '010-2908-6523', '최경진', '3', 'frog1490@gmail.com', 'A'], ['A', '신춘호', '2022-10-26', '케이블러썸', '010-6793-3777', '이선교', '1', 'xaolee@naver.com', 'A'], ['A', '최철호', '2022-10-26', '레브커머스', '010-2908-6523', '최경진', '1', 'frog1490@gmail.com', 'A'], ['A', '최철호', '2022-10-26', '인베니드', '010-2992-7843', '최영', '1', 'invenneed@naver.com', 'A'], ['A', '이은광', '2022-10-2', '바오밥트리', '010-4880-9241', '서명화', '1', 'A'], ['A', '최철호', '2022-10-26', '하트페이스', '010-9426-5357', '양용선', '1', 'vbv0811@naver.com', 'A']]\n"
     ]
    }
   ],
   "source": [
    "#path = \"../../Desktop/모음\"\n",
    "path = \"C:/Users/SHIN/Desktop/모음\"\n",
    "file_list = os.listdir(path)\n",
    "fieldValue = []\n",
    "for i in file_list:\n",
    "    hwp.Open(path + '/' + i, arg=\"versionwarning:False\")\n",
    "    fieldList = hwp.GetFieldList().split(\"\\x02\")\n",
    "    tmp_fieldValue = []\n",
    "    for j in fieldList:\n",
    "        tmp_fieldValue.append(hwp.GetFieldText(j))\n",
    "    fieldValue.append(tmp_fieldValue)\n",
    "print(fieldValue)"
   ]
  },
  {
   "cell_type": "code",
   "execution_count": 97,
   "id": "c68b340d",
   "metadata": {},
   "outputs": [],
   "source": [
    "path = \"../../Desktop/모음/\"\n",
    "file_list = os.listdir(path)\n",
    "fieldValue = []"
   ]
  },
  {
   "cell_type": "code",
   "execution_count": 99,
   "id": "c592cd5d",
   "metadata": {},
   "outputs": [
    {
     "name": "stdout",
     "output_type": "stream",
     "text": [
      "컨설팅 지원 보고서_221004_버스도어 긴급 제동장치(최중완)_기술분야_신춘호.hwp\n",
      "['']\n",
      "컨설팅 지원 보고서_221005_모바일게임패드(한민섭)_기술분야_최철호.hwp\n",
      "['']\n",
      "컨설팅 지원 보고서_221006_스마트 핸들 그립(삼일비앤씨)_기술분야_신춘호.hwp\n",
      "['']\n",
      "컨설팅 지원 보고서_221006_스팀발생장치(참조은기술)_기술분야_최철호.hwp\n",
      "['']\n",
      "컨설팅 지원 보고서_221007_레이저훌라루프(황규필)_기술분야_최철호.hwp\n",
      "['']\n",
      "컨설팅 지원 보고서_221011_구이용불판(유지연)_기술분야_최철호.hwp\n",
      "['']\n",
      "컨설팅 지원 보고서_221011_업소용 그릴(유지연)_기술분야_이은광.hwp\n",
      "['']\n",
      "컨설팅 지원 보고서_221014_인공지능 로봇팔(휴닛로보틱스)_기술분야_신춘호.hwp\n",
      "['']\n",
      "컨설팅 지원 보고서_221019_플리캡(플리지)_기술분야_최철호.hwp\n",
      "['']\n",
      "컨설팅 지원 보고서_221021_스파우트파우치(조예진)_기술분야_최철호.hwp\n",
      "['']\n",
      "컨설팅 지원 보고서_221021_예식용 양초(진정복)_기술분야_이은광.hwp\n",
      "['']\n",
      "컨설팅 지원 보고서_221024_디지털 서명 패드(시스템테크)_기술분야_신춘호.hwp\n",
      "['']\n",
      "컨설팅 지원 보고서_221026_더스퀴저(이데아스)_기술분야_이은광.hwp\n",
      "['']\n",
      "컨설팅 지원 보고서_221026_밥통형 가열식 가습기(레브커머스)_기술분야_신춘호.hwp\n",
      "['']\n",
      "컨설팅 지원 보고서_221026_옷걸이형 항균 방향제(케이블러썸)_기술분야_신춘호.hwp\n",
      "['']\n",
      "컨설팅 지원 보고서_221026_요플레이밥통가습기(레브커머스)_기술분야_최철호.hwp\n",
      "['']\n",
      "컨설팅 지원 보고서_221026_탈모치료전용도포기(인베니드)_기술분야_최철호.hwp\n",
      "['']\n",
      "컨설팅 지원 보고서_221026_하드캐리어(바오밥트리)_기술분야_이은광.hwp\n",
      "['']\n",
      "컨설팅 지원 보고서_221026_휴가드포유아이언머슬패치(하트페이스)_기술분야_최철호.hwp\n",
      "['']\n"
     ]
    }
   ],
   "source": [
    "for i in file_list:\n",
    "    print(i)\n",
    "    hwp.Open(\"C:/Users/SHIN/Desktop/모음/컨설팅 지원 보고서_221004_버스도어 긴급 제동장치(최중완)_기술분야_신춘호\", arg=\"versionwarning:False\")\n",
    "    print(hwp.GetFieldList().split(\"\\x02\"))"
   ]
  },
  {
   "cell_type": "code",
   "execution_count": 109,
   "id": "770387ef",
   "metadata": {},
   "outputs": [
    {
     "name": "stdout",
     "output_type": "stream",
     "text": [
      "['_Num', '_Name', '_Date', '_Company', '_Phone', '_Client', '_Count', '_Email', '_Num2']\n"
     ]
    }
   ],
   "source": [
    "path = \"C:/Users/SHIN/Desktop/모음\"\n",
    "i = \"컨설팅 지원 보고서_221004_버스도어 긴급 제동장치(최중완)_기술분야_신춘호.hwp\"\n",
    "\n",
    "hwp.Open(path + \"/\" + i, arg=\"versionwarning:False\")\n",
    "list = hwp.GetFieldList().split(\"\\x02\")\n",
    "print(list)"
   ]
  },
  {
   "cell_type": "code",
   "execution_count": 70,
   "id": "6bfbd5c2",
   "metadata": {},
   "outputs": [
    {
     "data": {
      "text/plain": [
       "['A',\n",
       " '신춘호',\n",
       " '2022-10-04',\n",
       " '예비창업자',\n",
       " '010-3783-9170',\n",
       " '최중완',\n",
       " '3',\n",
       " 'cwcw69@hanmail.net',\n",
       " 'A']"
      ]
     },
     "execution_count": 70,
     "metadata": {},
     "output_type": "execute_result"
    }
   ],
   "source": [
    "fieldValue"
   ]
  },
  {
   "cell_type": "code",
   "execution_count": null,
   "id": "21e37268",
   "metadata": {},
   "outputs": [],
   "source": []
  },
  {
   "cell_type": "code",
   "execution_count": null,
   "id": "a069ec60",
   "metadata": {},
   "outputs": [],
   "source": []
  }
 ],
 "metadata": {
  "kernelspec": {
   "display_name": "Python 3 (ipykernel)",
   "language": "python",
   "name": "python3"
  },
  "language_info": {
   "codemirror_mode": {
    "name": "ipython",
    "version": 3
   },
   "file_extension": ".py",
   "mimetype": "text/x-python",
   "name": "python",
   "nbconvert_exporter": "python",
   "pygments_lexer": "ipython3",
   "version": "3.10.1"
  }
 },
 "nbformat": 4,
 "nbformat_minor": 5
}
